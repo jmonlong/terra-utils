{
 "cells": [
  {
   "cell_type": "markdown",
   "id": "8fbc3619-b2b8-45fb-ba41-f6ed258556ca",
   "metadata": {
    "collapsed": false
   },
   "source": [
    "![eraser-banderole.jpg](attachment:eraser-banderole.jpg)"
   ]
  },
  {
   "cell_type": "markdown",
   "id": "ce5d36b5-7c29-4774-9457-66d27e8c1105",
   "metadata": {
    "collapsed": false
   },
   "source": [
    "This notebook uses R. Change Kernel to R if needed with *Kernel* -> *Change kernel*.\n",
    "\n",
    "It helps understand how much space is used in the workspace, and assists in erasing the files you don't want to keep. It can erase files selected by size, date, extension while protecting those in the workspace's Tables or in specific submissions.\n",
    "\n",
    "**Limitations**\n",
    "1. We look for paths with `/*/call-*` to identify files produced by workflows. If some files were manually uploaded and match that path, they might get erased (assuming they are not protected by other mechanisms like being in a table for example).\n",
    "1. When protecting specific submissions, it assumes that the path is in the form `gs://<BUCKET>/submissions/<SUBMISSION>/*`. If the submission ID is not there in the filename, they might not get protected."
   ]
  },
  {
   "cell_type": "markdown",
   "id": "d97b4889-7d2d-4502-a2bc-18b9d9cb2c57",
   "metadata": {
    "collapsed": false
   },
   "source": [
    "# Load packages"
   ]
  },
  {
   "cell_type": "code",
   "execution_count": {},
   "id": "123ff2ef-d669-467d-9e6f-fc1d0116c8d2",
   "metadata": {
    "collapsed": false,
    "scrolled": false
   },
   "outputs": [],
   "source": [
    "suppressMessages(library(AnVIL))\n",
    "BUCKET = avbucket()\n",
    "BUCKET"
   ]
  },
  {
   "cell_type": "markdown",
   "id": "30af1894-7516-4722-b9d5-3bf57d339fb2",
   "metadata": {
    "collapsed": false
   },
   "source": [
    "# How much space is being used currently?"
   ]
  },
  {
   "cell_type": "code",
   "execution_count": {},
   "id": "0d085032-9203-4b5a-884b-1a0abb698b66",
   "metadata": {
    "collapsed": false
   },
   "outputs": [],
   "source": [
    "system(paste0(\"gsutil du -sh \", BUCKET), intern=TRUE)"
   ]
  },
  {
   "cell_type": "markdown",
   "id": "b6fbe52b-932d-4729-a2ad-90b3eeb16d9e",
   "metadata": {
    "collapsed": false
   },
   "source": [
    "# List all files in the bucket\n",
    "\n",
    "Also save to a \"checkpoint\" file in case the kernel dies."
   ]
  },
  {
   "cell_type": "code",
   "execution_count": {},
   "id": "e5d162ca-9de7-4a6e-80b1-9e45960d1d54",
   "metadata": {
    "collapsed": false
   },
   "outputs": [],
   "source": [
    "du.o = system(paste0(\"gsutil ls -l \", BUCKET, \"/**\"), intern=TRUE)\n",
    "saveRDS(du.o, file='duo.RDS')"
   ]
  },
  {
   "cell_type": "markdown",
   "id": "03fa1cd6-3482-4c57-b980-449b28e00c51",
   "metadata": {
    "collapsed": false
   },
   "source": [
    "This might take a few minutes depending on the number of files in the workspace. That's why we save the output in a file that can be loaded with:"
   ]
  },
  {
   "cell_type": "code",
   "execution_count": {},
   "id": "efb2ee93-f677-4189-9780-ad422caaa1f8",
   "metadata": {
    "collapsed": false
   },
   "outputs": [],
   "source": [
    "du.o = readRDS('duo.RDS')"
   ]
  },
  {
   "cell_type": "markdown",
   "id": "bca39c92-4ab9-4683-b873-27db4656d83a",
   "metadata": {
    "collapsed": false
   },
   "source": [
    "Convert to data frame."
   ]
  },
  {
   "cell_type": "code",
   "execution_count": {},
   "id": "7f65101e-25c5-480e-b08d-85f7a05e5a23",
   "metadata": {
    "collapsed": false
   },
   "outputs": [],
   "source": [
    "du.df = tibble(\n",
    "    size=as.numeric(gsub(\" *([^ ]+) .*\", \"\\\\1\", du.o)),\n",
    "    date=gsub(paste0(\" *[0-9]+ *([^ ]+)T.*\"), \"\\\\1\", du.o),\n",
    "    file=gsub(paste0(\".*\", BUCKET, \"/([^ ]+) *.*\"), \"\\\\1\", du.o)    \n",
    ")"
   ]
  },
  {
   "cell_type": "markdown",
   "id": "ee098af0-1e74-4809-8125-f7cf15413203",
   "metadata": {
    "collapsed": false
   },
   "source": [
    "There was a warning about a \"NA\" when converting the sizes to \"numeric\". Make sure thatit was just the line with the TOTAL stats, and remove from the data frame."
   ]
  },
  {
   "cell_type": "code",
   "execution_count": {},
   "id": "73776266-268c-42ba-8216-a8cfb5d88ae4",
   "metadata": {
    "collapsed": false,
    "scrolled": true
   },
   "outputs": [],
   "source": [
    "du.df %>% filter(is.na(size))\n",
    "du.df = du.df %>% filter(!is.na(size))"
   ]
  },
  {
   "cell_type": "markdown",
   "id": "c24b5b9f-8808-4fb1-958b-2d606343c047",
   "metadata": {
    "collapsed": false
   },
   "source": [
    "Prepare some columns to get:\n",
    "- `filen` filenames\n",
    "- `size.mb` size in Mb\n",
    "- `date` dates\n",
    "- `extension` file extension, with a bit of a hack to get longer extensions for `.gz` files. \n",
    "- `is.results` boolean guessing when files are results from workflows (if in the form `/*/-call-*`)\n",
    "- `submission` submission id (or root directory if not)."
   ]
  },
  {
   "cell_type": "code",
   "execution_count": {},
   "id": "9461e228-011e-45b4-8b84-490a25aaf930",
   "metadata": {
    "collapsed": false
   },
   "outputs": [],
   "source": [
    "## extract extension. If '.gz', extract one more suffix.\n",
    "findExtension <- function(filenames){\n",
    "    ifelse(grepl(\"\\\\.gz$\", filenames),\n",
    "           gsub('.*\\\\.(.+\\\\..+)', '\\\\1', filenames),\n",
    "           gsub('.*\\\\.(.+)', '\\\\1', filenames))\n",
    "}\n",
    "du.df = du.df %>% \n",
    "    mutate(size.mb=size/(1024*1024), \n",
    "           filen=basename(file),\n",
    "           date=strptime(date, \"%Y-%m-%d\"),\n",
    "           extension=findExtension(filen), \n",
    "           is.results=grepl('/.+/call-', file),\n",
    "           submission=gsub(\"submissions/\", \"\", file), submission=gsub(\"([^/]+).*\", \"\\\\1\", submission)) %>% \n",
    "    select(-size) %>% arrange(desc(size.mb))"
   ]
  },
  {
   "cell_type": "markdown",
   "id": "e5d7a0d9-8992-4464-a194-df47da284658",
   "metadata": {
    "collapsed": false
   },
   "source": [
    "Have a look at the data.frame."
   ]
  },
  {
   "cell_type": "code",
   "execution_count": {},
   "id": "a71f057e-aa05-44a1-afeb-71be5bbb8f06",
   "metadata": {
    "collapsed": false,
    "scrolled": true
   },
   "outputs": [],
   "source": [
    "sample_n(du.df, 10)"
   ]
  },
  {
   "cell_type": "markdown",
   "id": "db550473-fc1f-4fdb-8436-70c5fb741381",
   "metadata": {
    "collapsed": false
   },
   "source": [
    "# What's using storage?\n",
    "\n",
    "For example, what types of files are using more than 0.5 Tb?"
   ]
  },
  {
   "cell_type": "code",
   "execution_count": {},
   "id": "9d037297-449d-4eb6-b1df-9f68dd251cf0",
   "metadata": {
    "collapsed": false,
    "scrolled": false
   },
   "outputs": [],
   "source": [
    "du.df %>% group_by(extension) %>% summarize(size.tb=round(sum(size.mb/(1024*1024)), 3)) %>% \n",
    "    filter(size.tb>=.5) %>% arrange(desc(size.tb))"
   ]
  },
  {
   "cell_type": "markdown",
   "id": "68035d48-4c26-48e2-a323-06ab7cd93193",
   "metadata": {
    "collapsed": false
   },
   "source": [
    "Which root folder or submission is using the most space?"
   ]
  },
  {
   "cell_type": "code",
   "execution_count": {},
   "id": "59f59ca8-4540-4c4f-ad05-1d72241f5278",
   "metadata": {
    "collapsed": false
   },
   "outputs": [],
   "source": [
    "du.df %>% group_by(submission) %>% summarize(size.tb=round(sum(size.mb/(1024*1024)), 3)) %>% \n",
    "    arrange(desc(size.tb)) %>% head(10)"
   ]
  },
  {
   "cell_type": "markdown",
   "id": "b6f4cc5b-13fd-4232-9959-d118674f1e0c",
   "metadata": {
    "collapsed": false
   },
   "source": [
    "# Load all the Terra Tables\n",
    "\n",
    "And mark files that are in them in order to protect them from the erasing."
   ]
  },
  {
   "cell_type": "code",
   "execution_count": {},
   "id": "82a7e869-d2e7-4535-ab11-5312d41f07c7",
   "metadata": {
    "collapsed": false
   },
   "outputs": [],
   "source": [
    "files.in.tables = unlist(lapply(avtables()$table, function(tabname){\n",
    "    unlist(avtable(tabname))\n",
    "}))\n",
    "names(files.in.tables) = NULL"
   ]
  },
  {
   "cell_type": "code",
   "execution_count": {},
   "id": "90133749-1032-45ba-974e-27476527cc24",
   "metadata": {
    "collapsed": false
   },
   "outputs": [],
   "source": [
    "du.df = du.df %>% mutate(protected=paste0(BUCKET, \"/\", file) %in% files.in.tables)"
   ]
  },
  {
   "cell_type": "markdown",
   "id": "be2b0a4b-b065-4db1-9c6e-21ab09dbeae2",
   "metadata": {
    "collapsed": false
   },
   "source": [
    "How many files are now protected?"
   ]
  },
  {
   "cell_type": "code",
   "execution_count": {},
   "id": "418a8e24-c065-4766-9a56-7b243ab6468e",
   "metadata": {
    "collapsed": false,
    "scrolled": true
   },
   "outputs": [],
   "source": [
    "sum(du.df$protected)"
   ]
  },
  {
   "cell_type": "markdown",
   "id": "68b19b85-77ed-40ab-b08c-3a4f4da43840",
   "metadata": {
    "collapsed": false
   },
   "source": [
    "For example:"
   ]
  },
  {
   "cell_type": "code",
   "execution_count": {},
   "id": "a06c291c-ab76-445d-b45a-273ee6fff078",
   "metadata": {
    "collapsed": false,
    "scrolled": true
   },
   "outputs": [],
   "source": [
    "du.df %>% filter(protected) %>% sample_n(3)"
   ]
  },
  {
   "cell_type": "markdown",
   "id": "30e60cbf-d137-4bc3-baf9-ff7bb0c00655",
   "metadata": {
    "collapsed": false
   },
   "source": [
    "# Specifically protect submissions\n",
    "\n",
    "Maybe you'd like to keep all the files from some submissions. For example, if runs are in progress or upcoming runs might be able to use cached jobs."
   ]
  },
  {
   "cell_type": "code",
   "execution_count": {},
   "id": "36c84fea-bb35-4fd4-a6ab-45fec84b98a8",
   "metadata": {
    "collapsed": false
   },
   "outputs": [],
   "source": [
    "sub.tokeep = c('6658dded-ce48-4ed4-9028-809815e10591', 'fae1b345-15cd-4e53-bdc2-52c08b7c5b5e')"
   ]
  },
  {
   "cell_type": "code",
   "execution_count": {},
   "id": "326b5aba-2c3c-45c9-b184-059f52b07f81",
   "metadata": {
    "collapsed": false
   },
   "outputs": [],
   "source": [
    "du.df = du.df %>% mutate(protected=protected | submission %in% sub.tokeep)"
   ]
  },
  {
   "cell_type": "markdown",
   "id": "e61e15c1-fe7e-4bb7-bd50-2ed001493f55",
   "metadata": {
    "collapsed": false
   },
   "source": [
    "How many files are now protected?"
   ]
  },
  {
   "cell_type": "code",
   "execution_count": {},
   "id": "530adda7-977c-4a3e-9b80-1d0905ab884e",
   "metadata": {
    "collapsed": false,
    "scrolled": true
   },
   "outputs": [],
   "source": [
    "sum(du.df$protected)"
   ]
  },
  {
   "cell_type": "markdown",
   "id": "c752077b-4fd6-47c2-8afb-4e0f28d048ad",
   "metadata": {
    "collapsed": false
   },
   "source": [
    "# Erase temporary files\n",
    "\n",
    "Temporary files can be defined in different ways. For example, we use:\n",
    "\n",
    "1. All files that are not protected and, say, larger than 10 Mb (to save most log/script files)\n",
    "1. All large unprotected files older than X days\n",
    "1. All large unprotected files with/without X extension\n",
    "\n",
    "Or a combination of those."
   ]
  },
  {
   "cell_type": "markdown",
   "id": "9d8e7742-d57b-4921-bbca-105b39957435",
   "metadata": {
    "collapsed": false
   },
   "source": [
    "## Erase all large unprotected files"
   ]
  },
  {
   "cell_type": "markdown",
   "id": "6f50e6dc-cfda-4e68-9009-4203c3776f83",
   "metadata": {
    "collapsed": false
   },
   "source": [
    "How much space is used by those files?"
   ]
  },
  {
   "cell_type": "code",
   "execution_count": {},
   "id": "7f7cbcc7-910f-46e0-8d0f-819224e32f2e",
   "metadata": {
    "collapsed": false,
    "scrolled": true
   },
   "outputs": [],
   "source": [
    "du.df %>% filter(is.results, !protected, size.mb>10) %>% \n",
    "    mutate(size.tb=size.mb/(1024*1024)) %>% .$size.tb %>% sum"
   ]
  },
  {
   "cell_type": "markdown",
   "id": "555306c6-548b-4bd8-a9c6-f75c0fb1e2f1",
   "metadata": {
    "collapsed": false
   },
   "source": [
    "Check a few big files, just in case."
   ]
  },
  {
   "cell_type": "code",
   "execution_count": {},
   "id": "e05d67ee-ef13-4250-967a-7dcd1a6cb153",
   "metadata": {
    "collapsed": false,
    "scrolled": true
   },
   "outputs": [],
   "source": [
    "du.df %>% filter(is.results, !protected, size.mb>10) %>% sample_n(10)"
   ]
  },
  {
   "cell_type": "markdown",
   "id": "fb70a87a-4637-4c14-a805-f77e0c60c5e4",
   "metadata": {
    "collapsed": false
   },
   "source": [
    "### Dry run\n",
    "\n",
    "Write the list of files somewhere"
   ]
  },
  {
   "cell_type": "code",
   "execution_count": {},
   "id": "f2cf1b1d-db58-48f3-92f1-e710b63a15e7",
   "metadata": {
    "collapsed": false
   },
   "outputs": [],
   "source": [
    "outf = gzfile('toremove.tsv.gz', 'w')\n",
    "du.df %>% filter(is.results, !protected, size.mb>10) %>% arrange(desc(size.mb)) %>% \n",
    "    mutate(size.gb=signif(size.mb/1024, 6)) %>% \n",
    "    select(size.gb, filen, date, file, everything(), -size.mb) %>% \n",
    "    write.table(outf, sep='\\t', quote=FALSE, row.names=FALSE)\n",
    "close(outf)"
   ]
  },
  {
   "cell_type": "code",
   "execution_count": {},
   "id": "e2a92812-27f5-4192-aaac-4a0a207ed7c5",
   "metadata": {
    "collapsed": false
   },
   "outputs": [],
   "source": [
    "system(paste0('gsutil cp toremove.tsv.gz ', BUCKET, '/eraser-files/'), intern=TRUE)"
   ]
  },
  {
   "cell_type": "code",
   "execution_count": {},
   "id": "75404cce-b3ad-4f02-bbbc-ac5b27874b88",
   "metadata": {
    "collapsed": false
   },
   "outputs": [],
   "source": [
    "outf = gzfile('tokeep.tsv.gz', 'w')\n",
    "du.df %>% filter(!is.results | protected | size.mb<=10) %>% arrange(desc(size.mb)) %>%\n",
    "    mutate(size.gb=signif(size.mb/1024, 6)) %>% \n",
    "    select(size.gb, filen, date, file, everything(), -size.mb) %>% \n",
    "    write.table(outf, sep='\\t', quote=FALSE, row.names=FALSE)\n",
    "close(outf)"
   ]
  },
  {
   "cell_type": "code",
   "execution_count": {},
   "id": "8b46826d-c354-4895-b589-280afaaa43ac",
   "metadata": {
    "collapsed": false,
    "scrolled": true
   },
   "outputs": [],
   "source": [
    "system(paste0('gsutil cp tokeep.tsv.gz ', BUCKET, '/eraser-files/'), intern=TRUE)"
   ]
  },
  {
   "cell_type": "markdown",
   "id": "88330c01-f6fb-4e5c-b250-14db22157632",
   "metadata": {
    "collapsed": false
   },
   "source": [
    "Those files are ordered in decreasing order of file size. It's good to have a look, or at least skim, the lists to make sure it looks correct."
   ]
  },
  {
   "cell_type": "markdown",
   "id": "d5aac2bc-09c5-459c-a46d-d78d7e987ef9",
   "metadata": {
    "collapsed": false
   },
   "source": [
    "### Erase files! DANGER\n",
    "\n",
    "This code will erase the files. If you'd prefer more control over which files get erased (e.g. by size/date/extension etc), read below."
   ]
  },
  {
   "cell_type": "code",
   "execution_count": {},
   "id": "07bf612f-c94f-4d90-bf44-7885a028f46a",
   "metadata": {
    "collapsed": false
   },
   "outputs": [],
   "source": [
    "du.df %>% filter(is.results, !protected, size.mb>10) %>%\n",
    "    mutate(file=paste0(BUCKET, \"/\", file)) %>% .$file %>% write(file='torm.txt', ncolumns = 1)"
   ]
  },
  {
   "cell_type": "code",
   "execution_count": {},
   "id": "3d850398-b74a-4b09-bb80-2b6473c90948",
   "metadata": {
    "collapsed": false
   },
   "outputs": [],
   "source": [
    "system(\"cat torm.txt | gsutil rm -I\", intern=TRUE)"
   ]
  },
  {
   "cell_type": "markdown",
   "id": "af8ba523-e9b4-440d-b972-78e83da40df4",
   "metadata": {
    "collapsed": false
   },
   "source": [
    "This might also take a few minutes if there are a lot of files to remove."
   ]
  },
  {
   "cell_type": "markdown",
   "id": "ba46ccc8-0865-4eb4-b2c3-419a96245bac",
   "metadata": {
    "collapsed": false
   },
   "source": [
    "## All large unprotected files older than X days\n",
    "\n",
    "Use the same types of command as above, but with different \"filters\". \n",
    "For example, unprotected large files older than 30 days:"
   ]
  },
  {
   "cell_type": "code",
   "execution_count": {},
   "id": "bff5af85-af3e-4987-ac1b-ebc21a7748c1",
   "metadata": {
    "collapsed": false
   },
   "outputs": [],
   "source": [
    "du.df %>% filter(is.results, !protected, size.mb>10,\n",
    "                 difftime(Sys.Date(), date, units=\"days\")>30) %>% sample_n(10)"
   ]
  },
  {
   "cell_type": "markdown",
   "id": "da412c74-2f6a-43d7-8fd2-5e01acde1427",
   "metadata": {
    "collapsed": false
   },
   "source": [
    "Note: the date filtering uses the *difftime* function to count the difference in days between the file's date and today (provided by `Sys.Date()`)."
   ]
  },
  {
   "cell_type": "markdown",
   "id": "9bccddfd-5f90-4bc6-808f-486c64e16536",
   "metadata": {
    "collapsed": false
   },
   "source": [
    "## All large unprotected files with/without X extension"
   ]
  },
  {
   "cell_type": "markdown",
   "id": "2ccfc5bc-1161-4b62-9884-92a4f6571229",
   "metadata": {
    "collapsed": false
   },
   "source": [
    "Same idea, but this time specifying filters on the `extension`.\n",
    "For example, if we want to remove all unzipped FASTQs and BAMs:"
   ]
  },
  {
   "cell_type": "code",
   "execution_count": {},
   "id": "2d12536c-b8f0-4ab6-b6c2-a754713c7887",
   "metadata": {
    "collapsed": false,
    "scrolled": true
   },
   "outputs": [],
   "source": [
    "du.df %>% filter(is.results, !protected, size.mb>10,\n",
    "                 extension %in% c(\"bam\", \"fastq\", \"fq\")) %>% sample_n(10)"
   ]
  },
  {
   "cell_type": "markdown",
   "id": "17a44cfe-de99-4603-8d17-53e10b32764b",
   "metadata": {
    "collapsed": false
   },
   "source": [
    "Or we want to keep CSV files and let's say all VCFs:"
   ]
  },
  {
   "cell_type": "code",
   "execution_count": {},
   "id": "fae43f95-c97c-4472-8cf2-e6e32883bfec",
   "metadata": {
    "collapsed": false,
    "scrolled": true
   },
   "outputs": [],
   "source": [
    "du.df %>% filter(is.results, !protected, size.mb>10,\n",
    "                 !(extension %in% c(\"csv\", \"vcf\", \"vcf.gz\"))) %>% sample_n(10)"
   ]
  },
  {
   "cell_type": "markdown",
   "id": "76484e73-65ed-4418-a795-390f3d2da765",
   "metadata": {
    "collapsed": false
   },
   "source": [
    "## Custom filters\n",
    "\n",
    "Sometimes you might know exactly the task to clean up, or a specific pattern in the path. \n",
    "That can also be added to the filtering.\n",
    "\n",
    "For example, to delete files from a task named *taskWithTemp* (the path will contain the task name):"
   ]
  },
  {
   "cell_type": "code",
   "execution_count": {},
   "id": "46bbd361-0da2-496d-be47-c63c56c4332b",
   "metadata": {
    "collapsed": false
   },
   "outputs": [],
   "source": [
    "du.df %>% filter(is.results, !protected, size.mb>10, grepl(\"taskWithTemp\", file) | %>% sample_n(10)"
   ]
  }
 ],
 "metadata": {
  "kernelspec": {
   "display_name": "R",
   "language": "R",
   "name": "ir"
  },
  "language_info": {
   "codemirror_mode": "r",
   "file_extension": ".r",
   "mimetype": "text/x-r-source",
   "name": "R",
   "pygments_lexer": "r",
   "version": "4.2.2"
  },
  "name": "TheEraser.ipynb",
  "toc": {
   "base_numbering": 1,
   "nav_menu": {},
   "number_sections": true,
   "sideBar": true,
   "skip_h1_title": false,
   "title_cell": "Table of Contents",
   "title_sidebar": "Contents",
   "toc_cell": false,
   "toc_position": {},
   "toc_section_display": true,
   "toc_window_display": false
  }
 },
 "nbformat": 4,
 "nbformat_minor": 2
}
